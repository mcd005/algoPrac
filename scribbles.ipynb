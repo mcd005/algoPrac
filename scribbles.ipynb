{
 "metadata": {
  "language_info": {
   "codemirror_mode": {
    "name": "ipython",
    "version": 3
   },
   "file_extension": ".py",
   "mimetype": "text/x-python",
   "name": "python",
   "nbconvert_exporter": "python",
   "pygments_lexer": "ipython3",
   "version": "3.8.3"
  },
  "orig_nbformat": 2,
  "kernelspec": {
   "name": "python383jvsc74a57bd0f8e7bd1ff46ccab6871bac96e4dce22da8d5e85e481f8cd9805fa78cf1b72922",
   "display_name": "Python 3.8.3 32-bit"
  },
  "metadata": {
   "interpreter": {
    "hash": "f8e7bd1ff46ccab6871bac96e4dce22da8d5e85e481f8cd9805fa78cf1b72922"
   }
  }
 },
 "nbformat": 4,
 "nbformat_minor": 2,
 "cells": [
  {
   "cell_type": "code",
   "execution_count": 2,
   "metadata": {},
   "outputs": [],
   "source": [
    "import numpy as np"
   ]
  },
  {
   "cell_type": "code",
   "execution_count": 8,
   "metadata": {},
   "outputs": [],
   "source": [
    "grid = {{110, 5, 112, 113, 114}, {210, 211, 5, 213, 214}, {310, 311, 3, 313, 314}, {410, 411, 412, 5, 414}, {5, 1, 512, 3, 3}, {610, 4, 1, 613, 614}, {710, -1, -2, 713, 714}, {810, -1, -2, 1, 1}, {1, -1, -2, 2, 2}, {4, -1, 4, 4, 1014}}"
   ]
  },
  {
   "cell_type": "code",
   "execution_count": 9,
   "metadata": {},
   "outputs": [
    {
     "output_type": "stream",
     "name": "stdout",
     "text": [
      "[[ 110    0    0    0    0]\n [ 210    0    0  113  114]\n [ 310    0    0  213  214]\n [ 410    0  112  313  314]\n [   5    5    5    5  414]\n [ 610  211    3    3    3]\n [ 710  311  412  613  614]\n [ 810  411  512  713  714]\n [   1    1    1    1    1]\n [   4    4    4    4 1014]]\n"
     ]
    }
   ],
   "source": [
    "print(np.matrix(grid))"
   ]
  },
  {
   "cell_type": "code",
   "execution_count": null,
   "metadata": {},
   "outputs": [],
   "source": []
  }
 ]
}